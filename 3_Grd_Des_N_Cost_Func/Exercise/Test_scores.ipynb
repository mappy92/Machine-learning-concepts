{
 "cells": [
  {
   "cell_type": "code",
   "execution_count": 1,
   "id": "f3403ddf",
   "metadata": {},
   "outputs": [],
   "source": [
    "import pandas as pd\n",
    "import numpy as np\n",
    "import matplotlib.pyplot as plt\n",
    "import math"
   ]
  },
  {
   "cell_type": "code",
   "execution_count": 2,
   "id": "52507f69",
   "metadata": {},
   "outputs": [],
   "source": [
    "%matplotlib inline\n",
    "def gradient_descent(x,y):\n",
    "    m_curr = b_curr = 0\n",
    "    iterations = 1000\n",
    "    n = len(x)\n",
    "    cost_previous = 0\n",
    "    #plt.scatter(x,y,color='red',marker='+',linewidth='5')\n",
    "    learning_rate = 0.0002\n",
    "    for i in range(iterations):\n",
    "        # predicted value of y\n",
    "        y_predicted = m_curr*x + b_curr\n",
    "        #plt.plot(x,y_predicted,color='green')\n",
    "        # cost function\n",
    "        cost = (1/n) * sum([val**2 for val in (y-y_predicted)])\n",
    "        if math.isclose(cost, cost_previous, rel_tol=1e-20):\n",
    "            print(\"End loop at : \", i)\n",
    "            break\n",
    "        cost_previous = cost\n",
    "        # derivative of slope m\n",
    "        md = -(2/n)* sum(x*(y - y_predicted))\n",
    "        # derivative of intercept b\n",
    "        bd = -(2/n)* sum(y - y_predicted)\n",
    "\n",
    "        m_curr = m_curr - learning_rate * md\n",
    "        b_curr = b_curr - learning_rate * bd\n",
    "    return m_curr, b_curr\n"
   ]
  },
  {
   "cell_type": "code",
   "execution_count": 3,
   "id": "d87aa6e6",
   "metadata": {},
   "outputs": [
    {
     "data": {
      "text/plain": [
       "0    92\n",
       "1    56\n",
       "2    88\n",
       "3    70\n",
       "4    80\n",
       "5    49\n",
       "6    65\n",
       "7    35\n",
       "8    66\n",
       "9    67\n",
       "Name: math, dtype: int64"
      ]
     },
     "execution_count": 3,
     "metadata": {},
     "output_type": "execute_result"
    }
   ],
   "source": [
    "df = pd.read_csv('test_scores.csv')\n",
    "df.math\n"
   ]
  },
  {
   "cell_type": "code",
   "execution_count": 4,
   "id": "5fd21f8e",
   "metadata": {},
   "outputs": [
    {
     "name": "stdout",
     "output_type": "stream",
     "text": [
      "[92 56 88 70 80 49 65 35 66 67] [98 68 81 80 83 52 66 30 68 73]\n"
     ]
    }
   ],
   "source": [
    "x = np.array([int(val) for val in df.math])\n",
    "y = np.array([int(val) for val in df.cs])\n",
    "print(x, y)\n"
   ]
  },
  {
   "cell_type": "code",
   "execution_count": 5,
   "id": "142466eb",
   "metadata": {},
   "outputs": [
    {
     "name": "stdout",
     "output_type": "stream",
     "text": [
      "Slope :  1.0439449783485493  Intercept :  0.057873903254289885\n"
     ]
    }
   ],
   "source": [
    "m, b  = gradient_descent(x,y)\n",
    "print(\"Slope : \", m, \" Intercept : \", b)"
   ]
  }
 ],
 "metadata": {
  "kernelspec": {
   "display_name": "Python 3 (ipykernel)",
   "language": "python",
   "name": "python3"
  },
  "language_info": {
   "codemirror_mode": {
    "name": "ipython",
    "version": 3
   },
   "file_extension": ".py",
   "mimetype": "text/x-python",
   "name": "python",
   "nbconvert_exporter": "python",
   "pygments_lexer": "ipython3",
   "version": "3.10.9"
  }
 },
 "nbformat": 4,
 "nbformat_minor": 5
}
